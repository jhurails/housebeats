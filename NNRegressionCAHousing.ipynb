{
 "cells": [
  {
   "cell_type": "code",
   "execution_count": 1,
   "metadata": {},
   "outputs": [],
   "source": [
    "#Regression. California Housing Data"
   ]
  },
  {
   "cell_type": "code",
   "execution_count": 2,
   "metadata": {},
   "outputs": [],
   "source": [
    "from sklearn.datasets import fetch_california_housing\n",
    "from sklearn.model_selection import train_test_split\n",
    "from sklearn.preprocessing import StandardScaler\n",
    "from tensorflow import keras\n",
    "import tensorflow as tf\n",
    "from tensorflow import optimizers"
   ]
  },
  {
   "cell_type": "code",
   "execution_count": 3,
   "metadata": {},
   "outputs": [],
   "source": [
    "housing = fetch_california_housing()\n",
    "\n",
    "X_train_full, X_test, y_train_full, y_test = train_test_split(housing.data,housing.target)\n",
    "X_train, X_valid, y_train, y_valid = train_test_split(X_train_full,y_train_full)"
   ]
  },
  {
   "cell_type": "code",
   "execution_count": 4,
   "metadata": {},
   "outputs": [],
   "source": [
    "scaler = StandardScaler()\n",
    "X_train = scaler.fit_transform(X_train)\n",
    "X_valid = scaler.transform(X_valid)\n",
    "X_test = scaler.transform(X_test)"
   ]
  },
  {
   "cell_type": "code",
   "execution_count": 11,
   "metadata": {},
   "outputs": [
    {
     "name": "stdout",
     "output_type": "stream",
     "text": [
      "Model: \"sequential_5\"\n",
      "_________________________________________________________________\n",
      "Layer (type)                 Output Shape              Param #   \n",
      "=================================================================\n",
      "dense_13 (Dense)             (None, 30)                270       \n",
      "_________________________________________________________________\n",
      "dense_14 (Dense)             (None, 30)                930       \n",
      "_________________________________________________________________\n",
      "dense_15 (Dense)             (None, 30)                930       \n",
      "_________________________________________________________________\n",
      "dense_16 (Dense)             (None, 1)                 31        \n",
      "=================================================================\n",
      "Total params: 2,161\n",
      "Trainable params: 2,161\n",
      "Non-trainable params: 0\n",
      "_________________________________________________________________\n",
      "Train on 11610 samples, validate on 3870 samples\n",
      "Epoch 1/30\n",
      "11610/11610 [==============================] - 1s 106us/sample - loss: 2.4777 - accuracy: 0.0030 - val_loss: 2.4339 - val_accuracy: 0.0028\n",
      "Epoch 2/30\n",
      "11610/11610 [==============================] - 1s 75us/sample - loss: 2.4777 - accuracy: 0.0030 - val_loss: 2.4339 - val_accuracy: 0.0028\n",
      "Epoch 3/30\n",
      "11610/11610 [==============================] - 1s 76us/sample - loss: 2.4777 - accuracy: 0.0030 - val_loss: 2.4339 - val_accuracy: 0.0028\n",
      "Epoch 4/30\n",
      "11610/11610 [==============================] - 1s 78us/sample - loss: 2.4777 - accuracy: 0.0030 - val_loss: 2.4339 - val_accuracy: 0.0028\n",
      "Epoch 5/30\n",
      "11610/11610 [==============================] - 1s 75us/sample - loss: 2.4777 - accuracy: 0.0030 - val_loss: 2.4339 - val_accuracy: 0.0028\n",
      "Epoch 6/30\n",
      "11610/11610 [==============================] - 1s 76us/sample - loss: 2.4777 - accuracy: 0.0030 - val_loss: 2.4339 - val_accuracy: 0.0028\n",
      "Epoch 7/30\n",
      "11610/11610 [==============================] - 1s 74us/sample - loss: 2.4777 - accuracy: 0.0030 - val_loss: 2.4339 - val_accuracy: 0.0028\n",
      "Epoch 8/30\n",
      "11610/11610 [==============================] - 1s 75us/sample - loss: 2.4777 - accuracy: 0.0030 - val_loss: 2.4339 - val_accuracy: 0.0028\n",
      "Epoch 9/30\n",
      "11610/11610 [==============================] - 1s 78us/sample - loss: 2.4777 - accuracy: 0.0030 - val_loss: 2.4339 - val_accuracy: 0.0028\n",
      "Epoch 10/30\n",
      "11610/11610 [==============================] - 1s 76us/sample - loss: 2.4777 - accuracy: 0.0030 - val_loss: 2.4339 - val_accuracy: 0.0028\n",
      "Epoch 11/30\n",
      "11610/11610 [==============================] - 1s 75us/sample - loss: 2.4777 - accuracy: 0.0030 - val_loss: 2.4339 - val_accuracy: 0.0028\n",
      "Epoch 12/30\n",
      "11610/11610 [==============================] - 1s 79us/sample - loss: 2.4777 - accuracy: 0.0030 - val_loss: 2.4339 - val_accuracy: 0.0028\n",
      "Epoch 13/30\n",
      "11610/11610 [==============================] - 1s 74us/sample - loss: 2.4777 - accuracy: 0.0030 - val_loss: 2.4339 - val_accuracy: 0.0028\n",
      "Epoch 14/30\n",
      "11610/11610 [==============================] - 1s 78us/sample - loss: 2.4777 - accuracy: 0.0030 - val_loss: 2.4339 - val_accuracy: 0.0028\n",
      "Epoch 15/30\n",
      "11610/11610 [==============================] - 1s 77us/sample - loss: 2.4777 - accuracy: 0.0030 - val_loss: 2.4339 - val_accuracy: 0.0028\n",
      "Epoch 16/30\n",
      "11610/11610 [==============================] - 1s 75us/sample - loss: 2.4777 - accuracy: 0.0030 - val_loss: 2.4339 - val_accuracy: 0.0028\n",
      "Epoch 17/30\n",
      "11610/11610 [==============================] - 1s 79us/sample - loss: 2.4777 - accuracy: 0.0030 - val_loss: 2.4339 - val_accuracy: 0.0028\n",
      "Epoch 18/30\n",
      "11610/11610 [==============================] - 1s 81us/sample - loss: 2.4777 - accuracy: 0.0030 - val_loss: 2.4339 - val_accuracy: 0.0028\n",
      "Epoch 19/30\n",
      "11610/11610 [==============================] - 1s 84us/sample - loss: 2.4777 - accuracy: 0.0030 - val_loss: 2.4339 - val_accuracy: 0.0028\n",
      "Epoch 20/30\n",
      "11610/11610 [==============================] - 1s 79us/sample - loss: 2.4777 - accuracy: 0.0030 - val_loss: 2.4339 - val_accuracy: 0.0028\n",
      "Epoch 21/30\n",
      "11610/11610 [==============================] - 1s 77us/sample - loss: 2.4777 - accuracy: 0.0030 - val_loss: 2.4339 - val_accuracy: 0.0028\n",
      "Epoch 22/30\n",
      "11610/11610 [==============================] - 1s 86us/sample - loss: 2.4777 - accuracy: 0.0030 - val_loss: 2.4339 - val_accuracy: 0.0028\n",
      "Epoch 23/30\n",
      "11610/11610 [==============================] - 1s 81us/sample - loss: 2.4777 - accuracy: 0.0030 - val_loss: 2.4339 - val_accuracy: 0.0028\n",
      "Epoch 24/30\n",
      "11610/11610 [==============================] - 1s 84us/sample - loss: 2.4777 - accuracy: 0.0030 - val_loss: 2.4339 - val_accuracy: 0.0028\n",
      "Epoch 25/30\n",
      "11610/11610 [==============================] - 1s 91us/sample - loss: 2.4777 - accuracy: 0.0030 - val_loss: 2.4339 - val_accuracy: 0.0028\n",
      "Epoch 26/30\n",
      "11610/11610 [==============================] - 1s 76us/sample - loss: 2.4777 - accuracy: 0.0030 - val_loss: 2.4339 - val_accuracy: 0.0028\n",
      "Epoch 27/30\n",
      "11610/11610 [==============================] - 1s 85us/sample - loss: 2.4777 - accuracy: 0.0030 - val_loss: 2.4339 - val_accuracy: 0.0028\n",
      "Epoch 28/30\n",
      "11610/11610 [==============================] - 1s 83us/sample - loss: 2.4777 - accuracy: 0.0030 - val_loss: 2.4339 - val_accuracy: 0.0028\n",
      "Epoch 29/30\n",
      "11610/11610 [==============================] - 1s 85us/sample - loss: 2.4777 - accuracy: 0.0030 - val_loss: 2.4339 - val_accuracy: 0.0028\n",
      "Epoch 30/30\n",
      "11610/11610 [==============================] - 1s 81us/sample - loss: 2.4777 - accuracy: 0.0030 - val_loss: 2.4339 - val_accuracy: 0.0028\n",
      "5160/5160 [==============================] - 0s 44us/sample - loss: 2.4933 - accuracy: 0.0031\n"
     ]
    }
   ],
   "source": [
    "model = keras. models.Sequential()\n",
    "model.add(keras.layers.Dense(30,activation=\"relu\", input_shape=X_train.shape[1:]))\n",
    "model.add(keras.layers.Dense(30,activation=\"relu\"))\n",
    "model.add(keras.layers.Dense(30,activation=\"relu\"))\n",
    "model.add(keras.layers.Dense(1, activation=\"softmax\"))\n",
    "\n",
    "model.summary()\n",
    "\n",
    "model.compile(loss=\"mean_squared_error\", optimizer=\"sgd\", metrics=['accuracy'])\n",
    "history = model.fit(X_train, y_train, epochs = 30, validation_data = (X_valid, y_valid))\n",
    "mse_test = model.evaluate(X_test, y_test)\n",
    "X_new = X_test[:3]\n",
    "y_pred = model.predict(X_new)"
   ]
  },
  {
   "cell_type": "code",
   "execution_count": null,
   "metadata": {},
   "outputs": [],
   "source": []
  },
  {
   "cell_type": "code",
   "execution_count": null,
   "metadata": {},
   "outputs": [],
   "source": []
  },
  {
   "cell_type": "code",
   "execution_count": null,
   "metadata": {},
   "outputs": [],
   "source": []
  },
  {
   "cell_type": "code",
   "execution_count": null,
   "metadata": {},
   "outputs": [],
   "source": []
  },
  {
   "cell_type": "code",
   "execution_count": null,
   "metadata": {},
   "outputs": [],
   "source": []
  },
  {
   "cell_type": "code",
   "execution_count": null,
   "metadata": {},
   "outputs": [],
   "source": []
  },
  {
   "cell_type": "code",
   "execution_count": null,
   "metadata": {},
   "outputs": [],
   "source": []
  },
  {
   "cell_type": "code",
   "execution_count": null,
   "metadata": {},
   "outputs": [],
   "source": []
  },
  {
   "cell_type": "code",
   "execution_count": null,
   "metadata": {},
   "outputs": [],
   "source": []
  },
  {
   "cell_type": "code",
   "execution_count": null,
   "metadata": {},
   "outputs": [],
   "source": []
  },
  {
   "cell_type": "code",
   "execution_count": null,
   "metadata": {},
   "outputs": [],
   "source": []
  },
  {
   "cell_type": "code",
   "execution_count": null,
   "metadata": {},
   "outputs": [],
   "source": []
  }
 ],
 "metadata": {
  "kernelspec": {
   "display_name": "Python 3",
   "language": "python",
   "name": "python3"
  },
  "language_info": {
   "codemirror_mode": {
    "name": "ipython",
    "version": 3
   },
   "file_extension": ".py",
   "mimetype": "text/x-python",
   "name": "python",
   "nbconvert_exporter": "python",
   "pygments_lexer": "ipython3",
   "version": "3.6.9"
  }
 },
 "nbformat": 4,
 "nbformat_minor": 4
}
